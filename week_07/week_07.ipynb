{
 "cells": [
  {
   "cell_type": "code",
   "execution_count": 31,
   "metadata": {},
   "outputs": [
    {
     "name": "stdout",
     "output_type": "stream",
     "text": [
      "[1 2 3 4 5]\n"
     ]
    }
   ],
   "source": [
    "import numpy as np\n",
    "# create a list of numbers\n",
    "numbers = [1, 2, 3, 4, 5]\n",
    "# convert the list to a numpy array\n",
    "numbers_array = np.array(numbers)\n",
    "print(numbers_array)"
   ]
  },
  {
   "cell_type": "code",
   "execution_count": 32,
   "metadata": {},
   "outputs": [
    {
     "name": "stdout",
     "output_type": "stream",
     "text": [
      "(5,)\n"
     ]
    }
   ],
   "source": [
    "# get the shape of a numpy array\n",
    "shape = numbers_array.shape\n",
    "print(shape)"
   ]
  },
  {
   "cell_type": "code",
   "execution_count": 33,
   "metadata": {},
   "outputs": [
    {
     "name": "stdout",
     "output_type": "stream",
     "text": [
      "5\n"
     ]
    }
   ],
   "source": [
    "# get the number of elements in the array\n",
    "num_elements = shape[0]\n",
    "print(num_elements)"
   ]
  },
  {
   "cell_type": "code",
   "execution_count": 34,
   "metadata": {},
   "outputs": [
    {
     "name": "stdout",
     "output_type": "stream",
     "text": [
      "1\n",
      "2\n",
      "5\n"
     ]
    }
   ],
   "source": [
    "# select elements from a numpy array\n",
    "# select the first element\n",
    "first_element = numbers_array[0]\n",
    "print(first_element)\n",
    "# select the second element\n",
    "second_element = numbers_array[1]\n",
    "print(second_element)\n",
    "# select the last element\n",
    "last_element = numbers_array[-1]\n",
    "print(last_element)"
   ]
  },
  {
   "cell_type": "code",
   "execution_count": 35,
   "metadata": {},
   "outputs": [],
   "source": [
    "import numpy as np\n",
    "# get a example for the x observations\n",
    "x = np.array([1, 2, 1, 3, 2])"
   ]
  },
  {
   "cell_type": "code",
   "execution_count": 36,
   "metadata": {},
   "outputs": [],
   "source": [
    "# define the parameters\n",
    "w = 2\n",
    "b = 1"
   ]
  },
  {
   "cell_type": "code",
   "execution_count": 37,
   "metadata": {},
   "outputs": [],
   "source": [
    "# function to compute the output of the model by a for-loop\n",
    "def compute_f(x, w, b):\n",
    "    y = []\n",
    "    for i in range(len(x)):\n",
    "        y.append(w * x[i] + b)\n",
    "    return np.array(y)"
   ]
  },
  {
   "cell_type": "code",
   "execution_count": 38,
   "metadata": {},
   "outputs": [],
   "source": [
    "# function to compute the output of the model by vectorization\n",
    "def compute_f_vectorized(x, w, b):\n",
    "    return w * x + b"
   ]
  },
  {
   "cell_type": "code",
   "execution_count": 39,
   "metadata": {},
   "outputs": [
    {
     "name": "stdout",
     "output_type": "stream",
     "text": [
      "Result by for-loop: [3 5 3 7 5]\n",
      "Result by vectorization: [3 5 3 7 5]\n"
     ]
    }
   ],
   "source": [
    "# test the two functions\n",
    "result1 = compute_f(x, w, b)\n",
    "print(\"Result by for-loop:\", result1)\n",
    "result2 = compute_f_vectorized(x, w, b)\n",
    "print(\"Result by vectorization:\", result2)"
   ]
  },
  {
   "cell_type": "code",
   "execution_count": 40,
   "metadata": {},
   "outputs": [
    {
     "name": "stdout",
     "output_type": "stream",
     "text": [
      "Time by for-loop: 0.0011599063873291016\n",
      "Time by vectorization: 0.0010449886322021484\n"
     ]
    }
   ],
   "source": [
    "# function to test the performance of the two functions\n",
    "def test_performance(func, x, w, b):\n",
    "    import time\n",
    "    start_time = time.time()\n",
    "    for i in range(1000):\n",
    "        func(x, w, b)\n",
    "    end_time = time.time()\n",
    "    return end_time - start_time\n",
    "\n",
    "# test the performance of the two functions\n",
    "time1 = test_performance(compute_f, x, w, b)\n",
    "print(\"Time by for-loop:\", time1)\n",
    "time2 = test_performance(compute_f_vectorized, x, w, b)\n",
    "print(\"Time by vectorization:\", time2)"
   ]
  }
 ],
 "metadata": {
  "kernelspec": {
   "display_name": "ds",
   "language": "python",
   "name": "python3"
  },
  "language_info": {
   "codemirror_mode": {
    "name": "ipython",
    "version": 3
   },
   "file_extension": ".py",
   "mimetype": "text/x-python",
   "name": "python",
   "nbconvert_exporter": "python",
   "pygments_lexer": "ipython3",
   "version": "3.10.13"
  }
 },
 "nbformat": 4,
 "nbformat_minor": 2
}
