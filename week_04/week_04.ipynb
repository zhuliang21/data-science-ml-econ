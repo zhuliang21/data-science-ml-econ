{
 "cells": [
  {
   "cell_type": "code",
   "execution_count": 25,
   "metadata": {},
   "outputs": [],
   "source": [
    "import numpy as np \n",
    "import pandas as pd\n",
    "data = {\n",
    "  'Name': ['Alice', 'Bob', 'Charlie', 'Alice', 'David', None, 'Eva'],\n",
    "  'Age': [25, 30, 35, 25, 40, 28, None],\n",
    "  'City': ['New York', 'Los Angeles', 'Chicago', 'New York', None, 'Boston', 'Miami']\n",
    "}\n",
    "df = pd.DataFrame(data)\n",
    "df.to_csv('data.csv', index=False)"
   ]
  },
  {
   "cell_type": "code",
   "execution_count": 26,
   "metadata": {},
   "outputs": [
    {
     "name": "stdout",
     "output_type": "stream",
     "text": [
      "      Name   Age         City\n",
      "0    Alice  25.0     New York\n",
      "1      Bob  30.0  Los Angeles\n",
      "2  Charlie  35.0      Chicago\n",
      "3    Alice  25.0     New York\n",
      "4    David  40.0          NaN\n",
      "5      NaN  28.0       Boston\n",
      "6      Eva   NaN        Miami\n"
     ]
    }
   ],
   "source": [
    "# Read the CSV file into a DataFrame\n",
    "df = pd.read_csv('data.csv')\n",
    "print(df)"
   ]
  },
  {
   "cell_type": "code",
   "execution_count": 27,
   "metadata": {},
   "outputs": [
    {
     "name": "stdout",
     "output_type": "stream",
     "text": [
      "      Name   Age         City Country\n",
      "0    Alice  25.0     New York     USA\n",
      "1      Bob  30.0  Los Angeles     USA\n",
      "2  Charlie  35.0      Chicago     USA\n",
      "3    Alice  25.0     New York     USA\n",
      "4    David  40.0          NaN     USA\n",
      "5      NaN  28.0       Boston     USA\n",
      "6      Eva   NaN        Miami     USA\n"
     ]
    }
   ],
   "source": [
    "# Adding a new column 'Country'\n",
    "df['Country'] = 'USA'\n",
    "print(df)"
   ]
  },
  {
   "cell_type": "code",
   "execution_count": 28,
   "metadata": {},
   "outputs": [
    {
     "name": "stdout",
     "output_type": "stream",
     "text": [
      "      Name   Age         City Country\n",
      "0    Alice  25.0     New York     USA\n",
      "1      Bob  30.0  Los Angeles     USA\n",
      "2  Charlie  35.0      Chicago     USA\n",
      "3    Alice  25.0     New York     USA\n",
      "4    David  40.0          NaN     USA\n"
     ]
    }
   ],
   "source": [
    "# Displaying the first few rows\n",
    "print(df.head())"
   ]
  },
  {
   "cell_type": "code",
   "execution_count": 29,
   "metadata": {},
   "outputs": [
    {
     "name": "stdout",
     "output_type": "stream",
     "text": [
      "Index(['Name', 'Age', 'City', 'Country'], dtype='object')\n"
     ]
    }
   ],
   "source": [
    "# Checking the column names\n",
    "print(df.columns)"
   ]
  },
  {
   "cell_type": "code",
   "execution_count": 30,
   "metadata": {},
   "outputs": [
    {
     "name": "stdout",
     "output_type": "stream",
     "text": [
      "Name       1\n",
      "Age        1\n",
      "City       1\n",
      "Country    0\n",
      "dtype: int64\n"
     ]
    }
   ],
   "source": [
    "# Checking for missing values\n",
    "print(df.isnull().sum())"
   ]
  },
  {
   "cell_type": "code",
   "execution_count": 31,
   "metadata": {},
   "outputs": [
    {
     "name": "stdout",
     "output_type": "stream",
     "text": [
      "0      Alice\n",
      "1        Bob\n",
      "2    Charlie\n",
      "3      Alice\n",
      "4      David\n",
      "5        NaN\n",
      "6        Eva\n",
      "Name: Name, dtype: object\n",
      "      Name   Age\n",
      "0    Alice  25.0\n",
      "1      Bob  30.0\n",
      "2  Charlie  35.0\n",
      "3    Alice  25.0\n",
      "4    David  40.0\n",
      "5      NaN  28.0\n",
      "6      Eva   NaN\n"
     ]
    }
   ],
   "source": [
    "# Selecting a single column\n",
    "print(df['Name'])\n",
    "# Selecting multiple columns\n",
    "print(df[['Name', 'Age']])"
   ]
  },
  {
   "cell_type": "code",
   "execution_count": 32,
   "metadata": {},
   "outputs": [
    {
     "name": "stdout",
     "output_type": "stream",
     "text": [
      "      Name   Age     City Country\n",
      "2  Charlie  35.0  Chicago     USA\n",
      "4    David  40.0      NaN     USA\n"
     ]
    }
   ],
   "source": [
    "# Filtering rows where Age is greater than 30\n",
    "print(df[df['Age'] > 30])"
   ]
  },
  {
   "cell_type": "code",
   "execution_count": 33,
   "metadata": {},
   "outputs": [
    {
     "name": "stdout",
     "output_type": "stream",
     "text": [
      "      Name   Age         City Country\n",
      "0    Alice  25.0     New York     USA\n",
      "1      Bob  30.0  Los Angeles     USA\n",
      "2  Charlie  35.0      Chicago     USA\n",
      "3    Alice  25.0     New York     USA\n",
      "4    David  40.0          NaN     USA\n",
      "5      NaN  28.0       Boston     USA\n",
      "6      Eva   NaN        Miami     USA\n"
     ]
    }
   ],
   "source": [
    "# Adding a new column 'Country'\n",
    "df['Country'] = 'USA'\n",
    "print(df)"
   ]
  },
  {
   "cell_type": "code",
   "execution_count": 34,
   "metadata": {},
   "outputs": [
    {
     "name": "stdout",
     "output_type": "stream",
     "text": [
      "      Name   Age     Location Country\n",
      "0    Alice  25.0     New York     USA\n",
      "1      Bob  30.0  Los Angeles     USA\n",
      "2  Charlie  35.0      Chicago     USA\n",
      "3    Alice  25.0     New York     USA\n",
      "4    David  40.0          NaN     USA\n",
      "5      NaN  28.0       Boston     USA\n",
      "6      Eva   NaN        Miami     USA\n"
     ]
    }
   ],
   "source": [
    "# Renaming the 'City' column to 'Location'\n",
    "df = df.rename(columns={'City': 'Location'})\n",
    "print(df)"
   ]
  },
  {
   "cell_type": "code",
   "execution_count": 35,
   "metadata": {},
   "outputs": [
    {
     "name": "stdout",
     "output_type": "stream",
     "text": [
      "      Name   Age     Location\n",
      "0    Alice  25.0     New York\n",
      "1      Bob  30.0  Los Angeles\n",
      "2  Charlie  35.0      Chicago\n",
      "3    Alice  25.0     New York\n",
      "4    David  40.0          NaN\n",
      "5      NaN  28.0       Boston\n",
      "6      Eva   NaN        Miami\n"
     ]
    }
   ],
   "source": [
    "# Dropping the 'Country' column\n",
    "df = df.drop('Country', axis=1)\n",
    "print(df)"
   ]
  }
 ],
 "metadata": {
  "kernelspec": {
   "display_name": "ds",
   "language": "python",
   "name": "python3"
  },
  "language_info": {
   "codemirror_mode": {
    "name": "ipython",
    "version": 3
   },
   "file_extension": ".py",
   "mimetype": "text/x-python",
   "name": "python",
   "nbconvert_exporter": "python",
   "pygments_lexer": "ipython3",
   "version": "3.10.13"
  }
 },
 "nbformat": 4,
 "nbformat_minor": 2
}
