{
 "cells": [
  {
   "cell_type": "markdown",
   "id": "e0874670",
   "metadata": {},
   "source": [
    "# Week 09\n",
    "\n",
    "## Sigmoid Function\n",
    "\n",
    "A sigmoid function is defined by the expression:\n",
    "\n",
    "$$g(z) = \\frac{1}{1+e^{-z}}$$\n",
    "\n",
    "For any value of $z$, the sigmoid function will output a value between 0 and 1.\n",
    "\n",
    "We can write a Python function to compute the sigmoid function. First, we will a function to calculate the exponential part: $$e^{-z}$$\n",
    "\n",
    "### Exponential Function\n",
    "\n",
    "In python, we can use the `np.exp()` function to calculate the exponential of a number. \n"
   ]
  },
  {
   "cell_type": "code",
   "execution_count": null,
   "id": "79244a3d",
   "metadata": {},
   "outputs": [],
   "source": [
    "\n",
    "import numpy as np\n",
    "\n",
    "def exp_neg(z):\n",
    "    return np.exp(-z)\n",
    "\n",
    "# test\n",
    "\n",
    "print(exp_neg(0))  # Should print 1.0"
   ]
  },
  {
   "cell_type": "markdown",
   "id": "54d13cea",
   "metadata": {},
   "source": [
    "### Assembling the Functions\n",
    "\n",
    "Next, we can integrate the exponential function into the sigmoid function:\n"
   ]
  },
  {
   "cell_type": "code",
   "execution_count": null,
   "id": "ec3fb457",
   "metadata": {},
   "outputs": [],
   "source": [
    "\n",
    "import numpy as np\n",
    "\n",
    "def sigmoid(z):\n",
    "    return 1 / (1 + np.exp(-z))\n",
    "\n",
    "# test\n",
    "\n",
    "print(sigmoid(0))  # Should print 0.5"
   ]
  },
  {
   "cell_type": "markdown",
   "id": "9d865fe6",
   "metadata": {},
   "source": [
    "## Other useful `np` functions\n",
    "\n",
    "### Log Function\n",
    "We can use the `np.log()` function to calculate the natural logarithm of a number $log(x)$.\n"
   ]
  },
  {
   "cell_type": "code",
   "execution_count": 11,
   "id": "4d595c6f",
   "metadata": {},
   "outputs": [
    {
     "name": "stdout",
     "output_type": "stream",
     "text": [
      "0.0\n"
     ]
    }
   ],
   "source": [
    "import numpy as np\n",
    "\n",
    "print(np.log(1))  # Should print 0.0"
   ]
  },
  {
   "cell_type": "markdown",
   "id": "d027f1b7",
   "metadata": {},
   "source": [
    "### Dot Product Function\n",
    "\n",
    "We can use the `np.dot()` function to calculate the dot product of two vectors or matrices. ($ \\mathbf{a} \\cdot \\mathbf{b}$)"
   ]
  },
  {
   "cell_type": "code",
   "execution_count": null,
   "id": "62e8f904",
   "metadata": {},
   "outputs": [
    {
     "name": "stdout",
     "output_type": "stream",
     "text": [
      "11\n"
     ]
    }
   ],
   "source": [
    "# import numpy as np\n",
    "import numpy as np\n",
    "\n",
    "print(np.dot(np.array([1, 2]), np.array([3, 4])))  # Should print 11"
   ]
  },
  {
   "cell_type": "markdown",
   "id": "f3c6b736",
   "metadata": {},
   "source": [
    "### Sum Function\n",
    "\n",
    "We can use the `np.sum()` function to calculate the sum of all elements in an array or along a specified axis. ($ \\sum_{i=1}^{n} a_i$)"
   ]
  },
  {
   "cell_type": "code",
   "execution_count": 13,
   "id": "7bd2afc9",
   "metadata": {},
   "outputs": [
    {
     "name": "stdout",
     "output_type": "stream",
     "text": [
      "6\n"
     ]
    }
   ],
   "source": [
    "# import numpy as np\n",
    "import numpy as np\n",
    "\n",
    "print(np.sum(np.array([1, 2, 3])))  # Should print 6\n"
   ]
  },
  {
   "cell_type": "markdown",
   "id": "a7b8a8f5",
   "metadata": {},
   "source": [
    "### Random Number Generation\n",
    "We can use the `np.random.rand()` function to generate random numbers. For example, `np.random.rand(3)` will generate a 1D array of 3 random numbers between 0 and 1."
   ]
  },
  {
   "cell_type": "code",
   "execution_count": 18,
   "id": "f7657656",
   "metadata": {},
   "outputs": [
    {
     "name": "stdout",
     "output_type": "stream",
     "text": [
      "[0.89015144 0.24554949 0.57225   ]\n"
     ]
    }
   ],
   "source": [
    "import numpy as np\n",
    "print(np.random.rand(3))  # Should print an array of 3 random numbers between 0 and 1"
   ]
  },
  {
   "cell_type": "markdown",
   "id": "9f532a91",
   "metadata": {},
   "source": [
    "#### Random Seed\n",
    "Try if you re-run the above command, you will get different random numbers each time. It is because the random number generator is seeded with the current time, so each time you run the command, it will generate a different set of random numbers. If you want to generate the same set of random numbers every time, you can set a seed using `np.random.seed(seed_value)"
   ]
  },
  {
   "cell_type": "code",
   "execution_count": 29,
   "id": "edd066e2",
   "metadata": {},
   "outputs": [
    {
     "name": "stdout",
     "output_type": "stream",
     "text": [
      "[0.37454012 0.95071431 0.73199394]\n"
     ]
    }
   ],
   "source": [
    "np.random.seed(42)\n",
    "print (np.random.rand(3))  # Should print an array of 3 random numbers with a fixed seed"
   ]
  },
  {
   "cell_type": "markdown",
   "id": "1a278b1b",
   "metadata": {},
   "source": [
    "Now you should get the same set of random numbers every time you run the command."
   ]
  },
  {
   "cell_type": "markdown",
   "id": "4f82c1d2",
   "metadata": {},
   "source": [
    "### Threshold Function\n",
    "\n",
    "We can define a threshold function that outputs 1 if the input is greater than or equal to a certain threshold, and 0 otherwise. It is useful for binary classification tasks.\n",
    "\n",
    "$$ \\text{threshold}(x, \\text{threshold\\_value}) =\n",
    "\\begin{cases}\n",
    "1 & \\text{if } x \\geq \\text{threshold\\_value} \\\\\n",
    "0 & \\text{otherwise}\n",
    "\\end{cases}\n",
    "$$"
   ]
  },
  {
   "cell_type": "code",
   "execution_count": 33,
   "id": "fcd7bda1",
   "metadata": {},
   "outputs": [
    {
     "name": "stdout",
     "output_type": "stream",
     "text": [
      "[0.37454012 0.95071431 0.73199394]\n",
      "[0 1 1]\n"
     ]
    }
   ],
   "source": [
    "import numpy as np\n",
    "np.random.seed(42)\n",
    "x = np.random.rand(3)\n",
    "print(x)  # Should print the same array of 3 random numbers with a fixed seed\n",
    "\n",
    "# Initialize an array p with zeros of the same shape as x\n",
    "p = np.zeros(x.shape, dtype=int)\n",
    "\n",
    "# Use enumerate to get the correct index for each element in x\n",
    "for i, x_i in enumerate(x):\n",
    "  p[i] = int(x_i > 0.5)\n",
    "\n",
    "print(p)  # Prints an array of 0s and 1s based on the condition"
   ]
  },
  {
   "cell_type": "code",
   "execution_count": null,
   "id": "35edb173",
   "metadata": {},
   "outputs": [],
   "source": []
  }
 ],
 "metadata": {
  "kernelspec": {
   "display_name": "base",
   "language": "python",
   "name": "python3"
  },
  "language_info": {
   "codemirror_mode": {
    "name": "ipython",
    "version": 3
   },
   "file_extension": ".py",
   "mimetype": "text/x-python",
   "name": "python",
   "nbconvert_exporter": "python",
   "pygments_lexer": "ipython3",
   "version": "3.11.8"
  }
 },
 "nbformat": 4,
 "nbformat_minor": 5
}
