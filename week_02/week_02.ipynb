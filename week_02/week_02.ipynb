{
 "cells": [
  {
   "cell_type": "code",
   "execution_count": 1,
   "metadata": {},
   "outputs": [
    {
     "name": "stdout",
     "output_type": "stream",
     "text": [
      "Matrix:\n",
      "[[1 2]\n",
      " [3 4]]\n"
     ]
    }
   ],
   "source": [
    "import numpy as np # type: ignore\n",
    "\n",
    "# Create a 2x2 matrix\n",
    "matrix = np.array([[1, 2], [3, 4]])\n",
    "print(\"Matrix:\")\n",
    "print(matrix)\n"
   ]
  },
  {
   "cell_type": "code",
   "execution_count": 2,
   "metadata": {},
   "outputs": [
    {
     "name": "stdout",
     "output_type": "stream",
     "text": [
      "Matrix Addition:\n",
      "[[ 6  8]\n",
      " [10 12]]\n"
     ]
    }
   ],
   "source": [
    "matrix1 = np.array([[1, 2], [3, 4]])\n",
    "matrix2 = np.array([[5, 6], [7, 8]])\n",
    "\n",
    "# Add matrices\n",
    "result = matrix1 + matrix2\n",
    "print(\"Matrix Addition:\")\n",
    "print(result)"
   ]
  },
  {
   "cell_type": "code",
   "execution_count": 3,
   "metadata": {},
   "outputs": [
    {
     "name": "stdout",
     "output_type": "stream",
     "text": [
      "Matrix Multiplication:\n",
      "[[19 22]\n",
      " [43 50]]\n"
     ]
    }
   ],
   "source": [
    "# Multiply matrices\n",
    "result = np.dot(matrix1, matrix2)\n",
    "print(\"Matrix Multiplication:\")\n",
    "print(result)"
   ]
  },
  {
   "cell_type": "code",
   "execution_count": 4,
   "metadata": {},
   "outputs": [
    {
     "name": "stdout",
     "output_type": "stream",
     "text": [
      "Original Matrix:\n",
      "[[1 2]\n",
      " [3 4]]\n",
      "Transposed Matrix:\n",
      "[[1 3]\n",
      " [2 4]]\n"
     ]
    }
   ],
   "source": [
    "# Transpose a matrix\n",
    "transposed = matrix1.T\n",
    "print(\"Original Matrix:\")\n",
    "print(matrix1)\n",
    "print(\"Transposed Matrix:\")\n",
    "print(transposed)"
   ]
  },
  {
   "cell_type": "code",
   "execution_count": 9,
   "metadata": {},
   "outputs": [
    {
     "name": "stdout",
     "output_type": "stream",
     "text": [
      "The matrix1 is:\n",
      "[[1 2]\n",
      " [3 4]]\n",
      "Determinant of matrix1:\n",
      "-2.0000000000000004\n"
     ]
    }
   ],
   "source": [
    "# Calculate the determinant of a matrix\n",
    "determinant = np.linalg.det(matrix1)\n",
    "print('The matrix1 is:')\n",
    "print(matrix1)\n",
    "print(\"Determinant of matrix1:\")\n",
    "print(determinant)"
   ]
  },
  {
   "cell_type": "code",
   "execution_count": 11,
   "metadata": {},
   "outputs": [
    {
     "name": "stdout",
     "output_type": "stream",
     "text": [
      "Original Matrix:\n",
      "[[1 2]\n",
      " [3 4]]\n",
      "Inverse of matrix1:\n",
      "[[-2.   1. ]\n",
      " [ 1.5 -0.5]]\n",
      "Product of matrix1 and its inverse:\n",
      "[[1.0000000e+00 0.0000000e+00]\n",
      " [8.8817842e-16 1.0000000e+00]]\n"
     ]
    }
   ],
   "source": [
    "# Calculate the inverse of a matrix\n",
    "inverse = np.linalg.inv(matrix1)\n",
    "print(\"Original Matrix:\")\n",
    "print(matrix1)\n",
    "print(\"Inverse of matrix1:\")\n",
    "print(inverse)\n",
    "print(\"Product of matrix1 and its inverse:\")\n",
    "print(np.dot(matrix1, inverse))"
   ]
  },
  {
   "cell_type": "code",
   "execution_count": 6,
   "metadata": {},
   "outputs": [
    {
     "name": "stdout",
     "output_type": "stream",
     "text": [
      "Original Matrix:\n",
      "[[1 2]\n",
      " [3 4]]\n",
      "Adjoint of matrix1:\n",
      "[[ 4. -2.]\n",
      " [-3.  1.]]\n"
     ]
    }
   ],
   "source": [
    "# Calculate the adjoint of a matrix\n",
    "adjoint = np.linalg.inv(matrix1) * determinant\n",
    "print('Original Matrix:')\n",
    "print(matrix1)\n",
    "print(\"Adjoint of matrix1:\")\n",
    "print(adjoint)"
   ]
  }
 ],
 "metadata": {
  "kernelspec": {
   "display_name": "ds",
   "language": "python",
   "name": "python3"
  },
  "language_info": {
   "codemirror_mode": {
    "name": "ipython",
    "version": 3
   },
   "file_extension": ".py",
   "mimetype": "text/x-python",
   "name": "python",
   "nbconvert_exporter": "python",
   "pygments_lexer": "ipython3",
   "version": "3.10.13"
  }
 },
 "nbformat": 4,
 "nbformat_minor": 2
}
