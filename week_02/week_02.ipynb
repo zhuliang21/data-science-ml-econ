{
 "cells": [
  {
   "cell_type": "code",
   "execution_count": 2,
   "metadata": {},
   "outputs": [
    {
     "name": "stdout",
     "output_type": "stream",
     "text": [
      "Matrix:\n",
      "[[1 2]\n",
      " [3 4]]\n"
     ]
    }
   ],
   "source": [
    "import numpy as np # type: ignore\n",
    "\n",
    "# Create a 2x2 matrix\n",
    "matrix = np.array([[1, 2], [3, 4]])\n",
    "print(\"Matrix:\")\n",
    "print(matrix)\n"
   ]
  },
  {
   "cell_type": "code",
   "execution_count": 3,
   "metadata": {},
   "outputs": [
    {
     "name": "stdout",
     "output_type": "stream",
     "text": [
      "Matrix Addition:\n",
      "[[ 6  8]\n",
      " [10 12]]\n"
     ]
    }
   ],
   "source": [
    "matrix1 = np.array([[1, 2], [3, 4]])\n",
    "matrix2 = np.array([[5, 6], [7, 8]])\n",
    "\n",
    "# Add matrices\n",
    "result = matrix1 + matrix2\n",
    "print(\"Matrix Addition:\")\n",
    "print(result)"
   ]
  },
  {
   "cell_type": "code",
   "execution_count": 4,
   "metadata": {},
   "outputs": [
    {
     "name": "stdout",
     "output_type": "stream",
     "text": [
      "Matrix Multiplication:\n",
      "[[19 22]\n",
      " [43 50]]\n"
     ]
    }
   ],
   "source": [
    "# Multiply matrices\n",
    "result = np.dot(matrix1, matrix2)\n",
    "print(\"Matrix Multiplication:\")\n",
    "print(result)"
   ]
  },
  {
   "cell_type": "code",
   "execution_count": 5,
   "metadata": {},
   "outputs": [
    {
     "name": "stdout",
     "output_type": "stream",
     "text": [
      "Original Matrix:\n",
      "[[1 2]\n",
      " [3 4]]\n",
      "Transposed Matrix:\n",
      "[[1 3]\n",
      " [2 4]]\n"
     ]
    }
   ],
   "source": [
    "# Transpose a matrix\n",
    "transposed = matrix1.T\n",
    "print(\"Original Matrix:\")\n",
    "print(matrix1)\n",
    "print(\"Transposed Matrix:\")\n",
    "print(transposed)"
   ]
  },
  {
   "cell_type": "code",
   "execution_count": 6,
   "metadata": {},
   "outputs": [
    {
     "name": "stdout",
     "output_type": "stream",
     "text": [
      "The matrix1 is:\n",
      "[[1 2]\n",
      " [3 4]]\n",
      "Determinant of matrix1:\n",
      "-2.0000000000000004\n"
     ]
    }
   ],
   "source": [
    "# Calculate the determinant of a matrix\n",
    "determinant = np.linalg.det(matrix1)\n",
    "print('The matrix1 is:')\n",
    "print(matrix1)\n",
    "print(\"Determinant of matrix1:\")\n",
    "print(determinant)"
   ]
  },
  {
   "cell_type": "code",
   "execution_count": 7,
   "metadata": {},
   "outputs": [
    {
     "name": "stdout",
     "output_type": "stream",
     "text": [
      "Original Matrix:\n",
      "[[1 2]\n",
      " [3 4]]\n",
      "Inverse of matrix1:\n",
      "[[-2.   1. ]\n",
      " [ 1.5 -0.5]]\n",
      "Product of matrix1 and its inverse:\n",
      "[[1.0000000e+00 0.0000000e+00]\n",
      " [8.8817842e-16 1.0000000e+00]]\n"
     ]
    }
   ],
   "source": [
    "# Calculate the inverse of a matrix\n",
    "inverse = np.linalg.inv(matrix1)\n",
    "print(\"Original Matrix:\")\n",
    "print(matrix1)\n",
    "print(\"Inverse of matrix1:\")\n",
    "print(inverse)\n",
    "print(\"Product of matrix1 and its inverse:\")\n",
    "print(np.dot(matrix1, inverse))"
   ]
  },
  {
   "cell_type": "code",
   "execution_count": 8,
   "metadata": {},
   "outputs": [
    {
     "name": "stdout",
     "output_type": "stream",
     "text": [
      "Original Matrix:\n",
      "[[1 2]\n",
      " [3 4]]\n",
      "Adjoint of matrix1:\n",
      "[[ 4. -2.]\n",
      " [-3.  1.]]\n"
     ]
    }
   ],
   "source": [
    "# Calculate the adjoint of a matrix\n",
    "adjoint = np.linalg.inv(matrix1) * determinant\n",
    "print('Original Matrix:')\n",
    "print(matrix1)\n",
    "print(\"Adjoint of matrix1:\")\n",
    "print(adjoint)"
   ]
  },
  {
   "cell_type": "code",
   "execution_count": null,
   "metadata": {},
   "outputs": [],
   "source": [
    "import matplotlib.pyplot as plt  # type: ignore\n",
    "import numpy as np  # type: ignore\n",
    "# plot two graphs: left y=3x, right y=x^2\n",
    "\n",
    "x = np.linspace(-10, 10, 100)\n",
    "y1 = 3 * x\n",
    "y2 = x ** 2\n",
    "fig, (ax1, ax2) = plt.subplots(1, 2)\n",
    "ax1.plot(x, y1)\n",
    "ax2.plot(x, y2)\n",
    "ax1.set_title('y=3x')\n",
    "ax2.set_title('y=x^2')\n",
    "plt.show()\n",
    "\n",
    "# save it to a png file\n",
    "fig.savefig('plot.png')\n"
   ]
  },
  {
   "cell_type": "code",
   "execution_count": 10,
   "metadata": {},
   "outputs": [
    {
     "name": "stdout",
     "output_type": "stream",
     "text": [
      "Iteration\t   x\t          f(x)\t          Gradient\n",
      "        1\t 10.000000\t 100.000000\t 20.000000\n",
      "        2\t 8.000000\t 64.000000\t 16.000000\n",
      "        3\t 6.400000\t 40.960000\t 12.800000\n",
      "        4\t 5.120000\t 26.214400\t 10.240000\n",
      "        5\t 4.096000\t 16.777216\t  8.192000\n",
      "        6\t 3.276800\t 10.737418\t  6.553600\n",
      "        7\t 2.621440\t 6.871948\t  5.242880\n",
      "        8\t 2.097152\t 4.398047\t  4.194304\n",
      "        9\t 1.677722\t 2.814750\t  3.355443\n",
      "       10\t 1.342177\t 1.801440\t  2.684355\n",
      "       11\t 1.073742\t 1.152922\t  2.147484\n",
      "       12\t 0.858993\t 0.737870\t  1.717987\n",
      "       13\t 0.687195\t 0.472237\t  1.374390\n",
      "       14\t 0.549756\t 0.302231\t  1.099512\n",
      "       15\t 0.439805\t 0.193428\t  0.879609\n",
      "       16\t 0.351844\t 0.123794\t  0.703687\n",
      "       17\t 0.281475\t 0.079228\t  0.562950\n",
      "       18\t 0.225180\t 0.050706\t  0.450360\n",
      "       19\t 0.180144\t 0.032452\t  0.360288\n",
      "       20\t 0.144115\t 0.020769\t  0.288230\n",
      "       21\t 0.115292\t 0.013292\t  0.230584\n",
      "       22\t 0.092234\t 0.008507\t  0.184467\n",
      "       23\t 0.073787\t 0.005445\t  0.147574\n",
      "       24\t 0.059030\t 0.003484\t  0.118059\n",
      "       25\t 0.047224\t 0.002230\t  0.094447\n",
      "       26\t 0.037779\t 0.001427\t  0.075558\n",
      "       27\t 0.030223\t 0.000913\t  0.060446\n",
      "       28\t 0.024179\t 0.000585\t  0.048357\n",
      "       29\t 0.019343\t 0.000374\t  0.038686\n",
      "       30\t 0.015474\t 0.000239\t  0.030949\n",
      "       31\t 0.012379\t 0.000153\t  0.024759\n",
      "       32\t 0.009904\t 0.000098\t  0.019807\n",
      "       33\t 0.007923\t 0.000063\t  0.015846\n",
      "       34\t 0.006338\t 0.000040\t  0.012677\n",
      "       35\t 0.005071\t 0.000026\t  0.010141\n",
      "       36\t 0.004056\t 0.000016\t  0.008113\n",
      "       37\t 0.003245\t 0.000011\t  0.006490\n",
      "       38\t 0.002596\t 0.000007\t  0.005192\n",
      "       39\t 0.002077\t 0.000004\t  0.004154\n",
      "       40\t 0.001662\t 0.000003\t  0.003323\n",
      "       41\t 0.001329\t 0.000002\t  0.002658\n",
      "       42\t 0.001063\t 0.000001\t  0.002127\n",
      "       43\t 0.000851\t 0.000001\t  0.001701\n",
      "       44\t 0.000681\t 0.000000\t  0.001361\n",
      "       45\t 0.000544\t 0.000000\t  0.001089\n",
      "       46\t 0.000436\t 0.000000\t  0.000871\n",
      "       47\t 0.000348\t 0.000000\t  0.000697\n",
      "       48\t 0.000279\t 0.000000\t  0.000558\n",
      "       49\t 0.000223\t 0.000000\t  0.000446\n",
      "       50\t 0.000178\t 0.000000\t  0.000357\n",
      "       51\t 0.000143\t 0.000000\t  0.000285\n",
      "       52\t 0.000114\t 0.000000\t  0.000228\n",
      "       53\t 0.000091\t 0.000000\t  0.000183\n",
      "       54\t 0.000073\t 0.000000\t  0.000146\n",
      "       55\t 0.000058\t 0.000000\t  0.000117\n",
      "       56\t 0.000047\t 0.000000\t  0.000094\n",
      "       57\t 0.000037\t 0.000000\t  0.000075\n",
      "       58\t 0.000030\t 0.000000\t  0.000060\n",
      "       59\t 0.000024\t 0.000000\t  0.000048\n",
      "       60\t 0.000019\t 0.000000\t  0.000038\n",
      "       61\t 0.000015\t 0.000000\t  0.000031\n",
      "       62\t 0.000012\t 0.000000\t  0.000025\n",
      "       63\t 0.000010\t 0.000000\t  0.000020\n",
      "       64\t 0.000008\t 0.000000\t  0.000016\n",
      "       65\t 0.000006\t 0.000000\t  0.000013\n",
      "       66\t 0.000005\t 0.000000\t  0.000010\n",
      "       67\t 0.000004\t 0.000000\t  0.000008\n",
      "\n",
      "Converged: x = 3.213876088517982e-06 with f(x) = 1.0328999512347646e-11\n"
     ]
    }
   ],
   "source": [
    "# Using gradient descent to find the minimum of f(x) = x^2\n",
    "\n",
    "def f(x):\n",
    "  return x**2\n",
    "\n",
    "# the gradient of f(x) can be conveniently calculated as:\n",
    "def grad_f(x):\n",
    "  return 2 * x\n",
    "\n",
    "# Set an initial guess for x, learning rate, and convergence criteria\n",
    "x = 10.0  # initial value\n",
    "learning_rate = 0.1 # learning rate\n",
    "max_iter = 100\n",
    "tolerance = 1e-6\n",
    "\n",
    "print(\"Iteration\\t   x\\t          f(x)\\t          Gradient\")\n",
    "for i in range(max_iter):\n",
    "  gradient = grad_f(x)\n",
    "  print(f\"{i+1:9d}\\t {x:7.6f}\\t {f(x):7.6f}\\t {gradient:9.6f}\")\n",
    "  # Update x using gradient descent rule\n",
    "  x_new = x - learning_rate * gradient\n",
    "  if abs(x_new - x) < tolerance:\n",
    "    x = x_new\n",
    "    break\n",
    "  x = x_new\n",
    "\n",
    "print(\"\\nConverged: x =\", x, \"with f(x) =\", f(x))"
   ]
  }
 ],
 "metadata": {
  "kernelspec": {
   "display_name": "ds",
   "language": "python",
   "name": "python3"
  },
  "language_info": {
   "codemirror_mode": {
    "name": "ipython",
    "version": 3
   },
   "file_extension": ".py",
   "mimetype": "text/x-python",
   "name": "python",
   "nbconvert_exporter": "python",
   "pygments_lexer": "ipython3",
   "version": "3.10.13"
  }
 },
 "nbformat": 4,
 "nbformat_minor": 2
}
