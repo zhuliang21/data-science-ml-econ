{
 "cells": [
  {
   "cell_type": "code",
   "execution_count": 3,
   "metadata": {},
   "outputs": [
    {
     "name": "stdout",
     "output_type": "stream",
     "text": [
      "Name          object\n",
      "Age           object\n",
      "Last Login    object\n",
      "dtype: object\n"
     ]
    }
   ],
   "source": [
    "# Create an example DataFrame\n",
    "import pandas as pd\n",
    "\n",
    "data = {\n",
    "  'Name': ['Alice', 'Bob', 'Charlie', 'David'],\n",
    "  'Age': ['25', '30', '35', '40'],\n",
    "  'Last Login': ['2021-01-01', '2021-01-02', '2021-01-03', '2021-01-04']\n",
    "}\n",
    "\n",
    "df = pd.DataFrame(data)\n",
    "print(df.dtypes)"
   ]
  },
  {
   "cell_type": "code",
   "execution_count": 4,
   "metadata": {},
   "outputs": [
    {
     "name": "stdout",
     "output_type": "stream",
     "text": [
      "Name          object\n",
      "Age            int64\n",
      "Last Login    object\n",
      "dtype: object\n"
     ]
    }
   ],
   "source": [
    "# Convert 'Age' column to integer\n",
    "df['Age'] = df['Age'].astype(int)\n",
    "print(df.dtypes)"
   ]
  },
  {
   "cell_type": "code",
   "execution_count": 5,
   "metadata": {},
   "outputs": [
    {
     "name": "stdout",
     "output_type": "stream",
     "text": [
      "Name                  object\n",
      "Age                    int64\n",
      "Last Login    datetime64[ns]\n",
      "dtype: object\n"
     ]
    }
   ],
   "source": [
    "# Convert 'Last Login' column to datetime\n",
    "df['Last Login'] = pd.to_datetime(df['Last Login'])\n",
    "print(df.dtypes)"
   ]
  },
  {
   "cell_type": "code",
   "execution_count": 6,
   "metadata": {},
   "outputs": [
    {
     "name": "stdout",
     "output_type": "stream",
     "text": [
      "               amount\n",
      "customer_name        \n",
      "Alice             250\n",
      "Bob               450\n",
      "Charlie           300\n"
     ]
    }
   ],
   "source": [
    "# Create an example DataFrame\n",
    "data = {\n",
    "  'transaction_id': [1, 2, 3, 4, 5],\n",
    "  'customer_name': ['Alice', 'Bob', 'Alice', 'Charlie', 'Bob'],\n",
    "  'amount': [100, 200, 150, 300, 250]\n",
    "}\n",
    "df = pd.DataFrame(data)\n",
    "\n",
    "# Group by 'customer_name' and calculate the total amount\n",
    "total_amount = df.groupby('customer_name').agg({'amount': 'sum'})\n",
    "print(total_amount)"
   ]
  },
  {
   "cell_type": "code",
   "execution_count": 7,
   "metadata": {},
   "outputs": [
    {
     "name": "stdout",
     "output_type": "stream",
     "text": [
      "               transaction_id\n",
      "customer_name                \n",
      "Alice                       2\n",
      "Bob                         2\n",
      "Charlie                     1\n"
     ]
    }
   ],
   "source": [
    "# Group by 'customer_name' and calculate the number of transactions\n",
    "num_transactions = df.groupby('customer_name').agg({'transaction_id': 'count'})\n",
    "print(num_transactions)"
   ]
  },
  {
   "cell_type": "code",
   "execution_count": 8,
   "metadata": {},
   "outputs": [
    {
     "name": "stdout",
     "output_type": "stream",
     "text": [
      "               amount\n",
      "customer_name        \n",
      "Alice           125.0\n",
      "Bob             225.0\n",
      "Charlie         300.0\n"
     ]
    }
   ],
   "source": [
    "# Group by 'customer_name' and calculate the average amount\n",
    "avg_amount = df.groupby('customer_name').agg({'amount': 'mean'})\n",
    "print(avg_amount)"
   ]
  },
  {
   "cell_type": "code",
   "execution_count": 9,
   "metadata": {},
   "outputs": [
    {
     "name": "stdout",
     "output_type": "stream",
     "text": [
      "8\n"
     ]
    }
   ],
   "source": [
    "def add(a, b):\n",
    "    return a + b\n",
    "\n",
    "# Call the function\n",
    "result = add(3, 5)\n",
    "print(result)"
   ]
  },
  {
   "cell_type": "code",
   "execution_count": 10,
   "metadata": {},
   "outputs": [
    {
     "name": "stdout",
     "output_type": "stream",
     "text": [
      "8\n"
     ]
    }
   ],
   "source": [
    "# Define a lambda function that adds two numbers\n",
    "add = lambda a, b: a + b\n",
    "\n",
    "# Call the lambda function\n",
    "\n",
    "result = add(3, 5)\n",
    "print(result)"
   ]
  },
  {
   "cell_type": "code",
   "execution_count": 11,
   "metadata": {},
   "outputs": [
    {
     "name": "stdout",
     "output_type": "stream",
     "text": [
      "[0, 1, 4, 9, 16, 25, 36, 49, 64, 81]\n"
     ]
    }
   ],
   "source": [
    "# Create a list of squares of numbers from 0 to 9\n",
    "squares = []\n",
    "for i in range(10):\n",
    "    squares.append(i ** 2)\n",
    "\n",
    "print(squares)"
   ]
  },
  {
   "cell_type": "code",
   "execution_count": 12,
   "metadata": {},
   "outputs": [
    {
     "name": "stdout",
     "output_type": "stream",
     "text": [
      "[0, 1, 4, 9, 16, 25, 36, 49, 64, 81]\n"
     ]
    }
   ],
   "source": [
    "squares = [i ** 2 for i in range(10)]\n",
    "print(squares)"
   ]
  }
 ],
 "metadata": {
  "kernelspec": {
   "display_name": "ds",
   "language": "python",
   "name": "python3"
  },
  "language_info": {
   "codemirror_mode": {
    "name": "ipython",
    "version": 3
   },
   "file_extension": ".py",
   "mimetype": "text/x-python",
   "name": "python",
   "nbconvert_exporter": "python",
   "pygments_lexer": "ipython3",
   "version": "3.10.13"
  }
 },
 "nbformat": 4,
 "nbformat_minor": 2
}
